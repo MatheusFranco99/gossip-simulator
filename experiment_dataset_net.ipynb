{
 "cells": [
  {
   "cell_type": "code",
   "execution_count": null,
   "metadata": {},
   "outputs": [],
   "source": [
    "from simulator import Simulator\n",
    "from network import Network\n",
    "import numpy as np\n",
    "\n",
    "from network import servers_csv_to_dict, pings_csv_to_dict\n",
    "\n",
    "network = Network.from_dicts(pings_csv_to_dict(\"./../pings.csv\"), servers_csv_to_dict(\"./../servers.csv\"), fraction = 1)"
   ]
  },
  {
   "cell_type": "code",
   "execution_count": null,
   "metadata": {},
   "outputs": [],
   "source": [
    "network.show_network()"
   ]
  },
  {
   "cell_type": "markdown",
   "metadata": {},
   "source": [
    "### RandomWalk"
   ]
  },
  {
   "cell_type": "code",
   "execution_count": null,
   "metadata": {},
   "outputs": [],
   "source": [
    "from gossip_algorithm import RandomWalk\n",
    "\n",
    "random_walk_simulator = Simulator(network=network, gossip_algorithm=RandomWalk(network))\n",
    "random_walk_simulator.setup()\n",
    "\n",
    "results, _  = random_walk_simulator.run(attackers = [])\n",
    "print(results)\n"
   ]
  },
  {
   "cell_type": "markdown",
   "metadata": {},
   "source": [
    "## Cobra Walk"
   ]
  },
  {
   "cell_type": "code",
   "execution_count": null,
   "metadata": {},
   "outputs": [],
   "source": [
    "from gossip_algorithm import CobraWalk\n",
    "\n",
    "cobra_walk_simulator = Simulator(network=network, gossip_algorithm=CobraWalk(network, rho = 0.8))\n",
    "cobra_walk_simulator.setup()\n",
    "\n",
    "results, _  = cobra_walk_simulator.run(attackers = [])\n",
    "print(results)\n"
   ]
  },
  {
   "cell_type": "markdown",
   "metadata": {},
   "source": [
    "## Spatial Gossip"
   ]
  },
  {
   "cell_type": "code",
   "execution_count": null,
   "metadata": {},
   "outputs": [],
   "source": [
    "from gossip_algorithm import SpatialGossip\n",
    "\n",
    "spatial_gossip_simulator = Simulator(network=network, gossip_algorithm=SpatialGossip(network, dimension = 2, rho = 1.1))\n",
    "spatial_gossip_simulator.setup()\n",
    "\n",
    "results, _  = spatial_gossip_simulator.run(attackers = [])\n",
    "print(results)\n"
   ]
  },
  {
   "cell_type": "markdown",
   "metadata": {},
   "source": [
    "## Cobra Walk with Spatial Gossip"
   ]
  },
  {
   "cell_type": "code",
   "execution_count": null,
   "metadata": {},
   "outputs": [],
   "source": [
    "from gossip_algorithm import SpatialGossipWithCobraWalk\n",
    "\n",
    "simulator = Simulator(network=network, gossip_algorithm=SpatialGossipWithCobraWalk(network, dimension = 2, rho = 1.1, cobra_walk_rho=0.8))\n",
    "simulator.setup()\n",
    "\n",
    "results, _  = simulator.run(attackers = [], msg_receival_limit = 40)\n",
    "print(results)\n"
   ]
  },
  {
   "cell_type": "markdown",
   "metadata": {},
   "source": [
    "## Hierarchical Gossip"
   ]
  },
  {
   "cell_type": "code",
   "execution_count": null,
   "metadata": {},
   "outputs": [],
   "source": [
    "from gossip_algorithm import HierarchialGossip\n",
    "\n",
    "simulator = Simulator(network=network, gossip_algorithm=HierarchialGossip(network, fanout_intra = 5, fanout_inter = 1, num_clusters = 6))\n",
    "simulator.setup()\n",
    "\n",
    "results, _  = simulator.run(attackers = []], msg_receival_limit = 60)\n",
    "print(results)\n"
   ]
  },
  {
   "cell_type": "markdown",
   "metadata": {},
   "source": [
    "## Hierarchical with cobra-walk (intra) and bernoulli (inter)"
   ]
  },
  {
   "cell_type": "code",
   "execution_count": null,
   "metadata": {},
   "outputs": [],
   "source": [
    "from gossip_algorithm import HierarchicalIntraCobraWalkInterBernoulliWithVoronoi\n",
    "from attacker import create_random_attackers, UniformEstimator\n",
    "\n",
    "simulator = Simulator(network=network, gossip_algorithm=HierarchicalIntraCobraWalkInterBernoulliWithVoronoi(network, inter_cluster_probability = 0.7, intra_cobra_walk_rho = 0.3, fanout_inter = 3, num_clusters = 8))\n",
    "simulator.setup()\n",
    "\n",
    "all_nodes = [node.node_id for node in simulator.network.nodes]\n",
    "lst_attackers = create_random_attackers(UniformEstimator, all_nodes, simulator.first_source.node_id, 0.1, num_attackers = 100)\n",
    "\n",
    "results, attack  = simulator.run(attackers = lst_attackers, msg_receival_limit = 60)\n",
    "print(results)\n",
    "print(attack)\n"
   ]
  },
  {
   "cell_type": "markdown",
   "metadata": {},
   "source": [
    "## GossipSub"
   ]
  },
  {
   "cell_type": "code",
   "execution_count": null,
   "metadata": {},
   "outputs": [],
   "source": [
    "from gossip_algorithm import GossipSub\n",
    "from attacker import create_random_attackers, UniformEstimator\n",
    "\n",
    "simulator = Simulator(network=network, gossip_algorithm=GossipSub(network, fanout = 8))\n",
    "simulator.setup()\n",
    "\n",
    "all_nodes = [node.node_id for node in simulator.network.nodes]\n",
    "lst_attackers = create_random_attackers(UniformEstimator, all_nodes, simulator.first_source.node_id, 0.1, num_attackers = 100)\n",
    "\n",
    "results, attack  = simulator.run(attackers = lst_attackers, msg_receival_limit = 1)\n",
    "print(results)\n",
    "print(attack)"
   ]
  },
  {
   "cell_type": "code",
   "execution_count": null,
   "metadata": {},
   "outputs": [],
   "source": [
    "import matplotlib.pyplot as plt\n",
    "import numpy as np\n",
    "from simulator import Simulator\n",
    "from network import Network\n",
    "from node import Node\n",
    "from position import Euclidean2D\n",
    "\n",
    "# network = Network(num_nodes = 50, grid_size=100)\n",
    "network = Network([Node(node_id=0, pos=Euclidean2D(71, 43)), Node(node_id=1, pos=Euclidean2D(34, 84)), Node(node_id=2, pos=Euclidean2D(42, 95)), Node(node_id=3, pos=Euclidean2D(45, 20)), Node(node_id=4, pos=Euclidean2D(30, 20)), Node(node_id=5, pos=Euclidean2D(64, 83)), Node(node_id=6, pos=Euclidean2D(2, 49)), Node(node_id=7, pos=Euclidean2D(52, 81)), Node(node_id=8, pos=Euclidean2D(35, 58)), Node(node_id=9, pos=Euclidean2D(77, 11)), Node(node_id=10, pos=Euclidean2D(42, 46)), Node(node_id=11, pos=Euclidean2D(60, 51)), Node(node_id=12, pos=Euclidean2D(87, 89)), Node(node_id=13, pos=Euclidean2D(78, 61)), Node(node_id=14, pos=Euclidean2D(50, 46)), Node(node_id=15, pos=Euclidean2D(4, 57)), Node(node_id=16, pos=Euclidean2D(5, 31)), Node(node_id=17, pos=Euclidean2D(85, 40)), Node(node_id=18, pos=Euclidean2D(67, 18)), Node(node_id=19, pos=Euclidean2D(1, 81)), Node(node_id=20, pos=Euclidean2D(84, 98)), Node(node_id=21, pos=Euclidean2D(91, 89)), Node(node_id=22, pos=Euclidean2D(12, 7)), Node(node_id=23, pos=Euclidean2D(20, 98)), Node(node_id=24, pos=Euclidean2D(50, 73)), Node(node_id=25, pos=Euclidean2D(15, 80)), Node(node_id=26, pos=Euclidean2D(20, 53)), Node(node_id=27, pos=Euclidean2D(35, 61)), Node(node_id=28, pos=Euclidean2D(66, 83)), Node(node_id=29, pos=Euclidean2D(62, 73)), Node(node_id=30, pos=Euclidean2D(54, 63)), Node(node_id=31, pos=Euclidean2D(52, 55)), Node(node_id=32, pos=Euclidean2D(96, 44)), Node(node_id=33, pos=Euclidean2D(31, 13)), Node(node_id=34, pos=Euclidean2D(92, 19)), Node(node_id=35, pos=Euclidean2D(44, 95)), Node(node_id=36, pos=Euclidean2D(46, 76)), Node(node_id=37, pos=Euclidean2D(9, 5)), Node(node_id=38, pos=Euclidean2D(9, 70)), Node(node_id=39, pos=Euclidean2D(77, 33)), Node(node_id=40, pos=Euclidean2D(66, 69)), Node(node_id=41, pos=Euclidean2D(64, 97)), Node(node_id=42, pos=Euclidean2D(97, 26)), Node(node_id=43, pos=Euclidean2D(17, 0)), Node(node_id=44, pos=Euclidean2D(29, 68)), Node(node_id=45, pos=Euclidean2D(29, 21)), Node(node_id=46, pos=Euclidean2D(92, 13)), Node(node_id=47, pos=Euclidean2D(54, 61)), Node(node_id=48, pos=Euclidean2D(8, 58)), Node(node_id=49, pos=Euclidean2D(52, 24))])\n",
    "# print(network.nodes)\n",
    "# network.show_network()\n",
    "spatial_results = []\n",
    "for i, rho in enumerate(np.arange(1, 2, 0.1)):\n",
    "    print(f\"{i+1} of {len(np.arange(1, 2, 0.1))}\")\n",
    "    runs_results = []\n",
    "    for run in range(100):\n",
    "        spatial_sim = Simulator(network=network, rho = rho, cobra_walk_rho=0.8, spatial_gossip=True)\n",
    "        spatial_sim.setup()\n",
    "        runs_results.append(spatial_sim.run())\n",
    "    spatial_results.append([run_result for run in runs_results for run_result in run])\n",
    "\n",
    "plt.plot(np.arange(1, 2, 0.1), [np.mean(x) for x in spatial_results])\n",
    "plt.xlabel(\"Rho\")\n",
    "plt.ylabel(\"Stretch Mean\")\n",
    "plt.title(\"Stretch vs Rho\")\n",
    "plt.show()\n",
    "\n",
    "#print table with mean, median, variance, max, min for each rho\n",
    "print(\"Rho \\t Mean \\t\\t\\t Median \\t\\t Variance \\t\\t Max \\t\\t\\t Min\")\n",
    "for i in range(len(spatial_results)):\n",
    "    print(f\"{(1*10+i)/10} \\t {np.mean(spatial_results[i])} \\t {np.median(spatial_results[i])} \\t {np.var(spatial_results[i])} \\t {np.max(spatial_results[i])} \\t {np.min(spatial_results[i])}\")"
   ]
  }
 ],
 "metadata": {
  "kernelspec": {
   "display_name": "Python 3",
   "language": "python",
   "name": "python3"
  },
  "language_info": {
   "codemirror_mode": {
    "name": "ipython",
    "version": 3
   },
   "file_extension": ".py",
   "mimetype": "text/x-python",
   "name": "python",
   "nbconvert_exporter": "python",
   "pygments_lexer": "ipython3",
   "version": "3.13.1"
  }
 },
 "nbformat": 4,
 "nbformat_minor": 2
}
