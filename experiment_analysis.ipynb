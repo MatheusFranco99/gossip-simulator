{
 "cells": [
  {
   "cell_type": "code",
   "execution_count": null,
   "metadata": {},
   "outputs": [],
   "source": [
    "from simulator import Simulator\n",
    "from network import Network\n",
    "\n",
    "from network import servers_csv_to_dict, pings_csv_to_dict\n",
    "\n",
    "network = Network.from_dicts(pings_csv_to_dict(\"./../pings.csv\"), servers_csv_to_dict(\"./../servers.csv\"), fraction = 1)"
   ]
  },
  {
   "cell_type": "markdown",
   "metadata": {},
   "source": [
    "## GossipSub"
   ]
  },
  {
   "cell_type": "code",
   "execution_count": null,
   "metadata": {},
   "outputs": [],
   "source": [
    "from gossip_algorithm import GossipSub\n",
    "from attacker import create_random_attackers, UniformEstimator\n",
    "\n",
    "simulator = Simulator(network=network, gossip_algorithm=GossipSub(network, fanout = 8))\n",
    "all_nodes = [node.node_id for node in simulator.network.nodes]\n",
    "\n",
    "stretches_gs = []\n",
    "attacks_gs = []\n",
    "\n",
    "for i in range(100):\n",
    "    print(f\"{i+1} / 100\") if i % 10 == 0 else None\n",
    "    simulator.setup()\n",
    "    lst_attackers = create_random_attackers(UniformEstimator, all_nodes, simulator.first_source.node_id, 0.1, num_attackers = 10)\n",
    "    stretch, attack  = simulator.run(attackers = lst_attackers, msg_receival_limit = 1)\n",
    "    stretches_gs.append(stretch)\n",
    "    attacks_gs.append(attack)"
   ]
  },
  {
   "cell_type": "markdown",
   "metadata": {},
   "source": [
    "## Hierarchical"
   ]
  },
  {
   "cell_type": "code",
   "execution_count": null,
   "metadata": {},
   "outputs": [],
   "source": [
    "from gossip_algorithm import HierarchicalIntraCobraWalkInterBernoulliWithVoronoi\n",
    "from attacker import create_random_attackers, UniformEstimator\n",
    "\n",
    "simulator = Simulator(network=network, gossip_algorithm=HierarchicalIntraCobraWalkInterBernoulliWithVoronoi(network, inter_cluster_probability = 0.7, intra_cobra_walk_rho = 0.7, fanout_inter = 3, num_clusters = 8))\n",
    "all_nodes = [node.node_id for node in simulator.network.nodes]\n",
    "\n",
    "stretches_h = []\n",
    "attacks_h = []\n",
    "\n",
    "for i in range(100):\n",
    "    print(f\"{i+1} / 100\") if i % 10 == 0 else None\n",
    "    simulator.setup()\n",
    "    lst_attackers = create_random_attackers(UniformEstimator, all_nodes, simulator.first_source.node_id, 0.1, num_attackers = 10)\n",
    "    stretch, attack  = simulator.run(attackers = lst_attackers, msg_receival_limit = 60)\n",
    "    stretches_h.append(stretch)\n",
    "    attacks_h.append(attack)"
   ]
  },
  {
   "cell_type": "code",
   "execution_count": null,
   "metadata": {},
   "outputs": [],
   "source": [
    "# Histograms\n",
    "import matplotlib.pyplot as plt\n",
    "import numpy as np\n",
    "\n",
    "all_stretches_gs = [stretch.values for stretch in stretches_gs]\n",
    "all_stretches_gs = [item for sublist in all_stretches_gs for item in sublist]\n",
    "all_stretches_h = [stretch.values for stretch in stretches_h]\n",
    "all_stretches_h = [item for sublist in all_stretches_h for item in sublist]\n",
    "all_attacks_gs = [attack.values for attack in attacks_gs]\n",
    "all_attacks_gs = [item for sublist in all_attacks_gs for item in sublist]\n",
    "all_attacks_h = [attack.values for attack in attacks_h]\n",
    "all_attacks_h = [item for sublist in all_attacks_h for item in sublist]\n",
    "\n",
    "plt.hist(all_stretches_gs, bins = 20, range = (0, 10), color = 'r', alpha = 0.5, label = \"GossipSub\")\n",
    "plt.hist(all_stretches_h, bins = 20, range = (0, 10), color = 'b', alpha = 0.5, label = \"Hierarchical\")\n",
    "plt.legend(loc='upper right')\n",
    "plt.title(\"Histogram of stretches\")\n",
    "plt.show()\n",
    "\n",
    "# attack success rate\n",
    "success_rate_gs = np.mean(all_attacks_gs)\n",
    "success_rate_h = np.mean(all_attacks_h)\n",
    "plt.bar([\"GossipSub\", \"Hierarchical\"], [success_rate_gs, success_rate_h], color = ['r', 'b'])\n",
    "plt.title(\"Attack success rate\")\n",
    "plt.show()\n",
    "\n"
   ]
  }
 ],
 "metadata": {
  "kernelspec": {
   "display_name": "Python 3",
   "language": "python",
   "name": "python3"
  },
  "language_info": {
   "codemirror_mode": {
    "name": "ipython",
    "version": 3
   },
   "file_extension": ".py",
   "mimetype": "text/x-python",
   "name": "python",
   "nbconvert_exporter": "python",
   "pygments_lexer": "ipython3",
   "version": "3.13.1"
  }
 },
 "nbformat": 4,
 "nbformat_minor": 2
}
