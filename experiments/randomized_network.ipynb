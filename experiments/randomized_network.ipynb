{
 "cells": [
  {
   "cell_type": "code",
   "execution_count": 9,
   "metadata": {},
   "outputs": [],
   "source": [
    "import sys\n",
    "sys.path.append(\"../src\")"
   ]
  },
  {
   "cell_type": "code",
   "execution_count": 10,
   "metadata": {},
   "outputs": [
    {
     "data": {
      "image/png": "[encoded data removed]",
      "text/plain": [
       "<Figure size 354.331x236.22 with 1 Axes>"
      ]
     },
     "metadata": {},
     "output_type": "display_data"
    }
   ],
   "source": [
    "from core.simulator import Simulator\n",
    "from core.network import Network\n",
    "import numpy as np\n",
    "\n",
    "network = Network.randomize(num_nodes = 10, grid_size=100)\n",
    "network.show_network()"
   ]
  },
  {
   "cell_type": "code",
   "execution_count": 11,
   "metadata": {},
   "outputs": [],
   "source": [
    "from core.attacker import create_random_attackers, LowestTimeEstimator\n",
    "from core.gossip_algorithm import RandomWalk\n",
    "\n",
    "simulator = Simulator(network=network, gossip_algorithm=RandomWalk(network))\n",
    "simulator.setup()"
   ]
  },
  {
   "cell_type": "code",
   "execution_count": 43,
   "metadata": {},
   "outputs": [
    {
     "name": "stdout",
     "output_type": "stream",
     "text": [
      "Mean: 11.369091227495254 | Median: 8.177228434355262 | Max: 38.17887262152839 | Min: 1.0003362404804732\n",
      "Mean: 0.0 | Median: 0.0 | Max: False | Min: False\n"
     ]
    }
   ],
   "source": [
    "all_nodes = [node.node_id for node in simulator.network.nodes]\n",
    "\n",
    "spatial_results, attacker_metric  = simulator.run(attackers = create_random_attackers(LowestTimeEstimator, all_nodes, simulator.first_source, 0.9, num_attackers = 20))\n",
    "print(spatial_results)\n",
    "print(attacker_metric)"
   ]
  }
 ],
 "metadata": {
  "kernelspec": {
   "display_name": "Python 3",
   "language": "python",
   "name": "python3"
  },
  "language_info": {
   "codemirror_mode": {
    "name": "ipython",
    "version": 3
   },
   "file_extension": ".py",
   "mimetype": "text/x-python",
   "name": "python",
   "nbconvert_exporter": "python",
   "pygments_lexer": "ipython3",
   "version": "3.12.0"
  }
 },
 "nbformat": 4,
 "nbformat_minor": 2
}
