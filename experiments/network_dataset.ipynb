{
 "cells": [
  {
   "cell_type": "code",
   "execution_count": null,
   "metadata": {},
   "outputs": [],
   "source": [
    "import sys\n",
    "sys.path.append(\"../src\")"
   ]
  },
  {
   "cell_type": "code",
   "execution_count": null,
   "metadata": {},
   "outputs": [],
   "source": [
    "from core.simulator import Simulator\n",
    "from core.network import Network, servers_csv_to_dict, pings_csv_to_dict\n",
    "\n",
    "network = Network.from_dicts(pings_csv_to_dict(\"data/datasets/pings.csv\"), servers_csv_to_dict(\"data/datasets/servers.csv\"), fraction = 0.5)"
   ]
  },
  {
   "cell_type": "code",
   "execution_count": null,
   "metadata": {},
   "outputs": [],
   "source": [
    "network.show_network()"
   ]
  },
  {
   "cell_type": "markdown",
   "metadata": {},
   "source": [
    "### RandomWalk"
   ]
  },
  {
   "cell_type": "code",
   "execution_count": null,
   "metadata": {},
   "outputs": [],
   "source": [
    "from core.gossip_algorithm import RandomWalk\n",
    "\n",
    "random_walk_simulator = Simulator(network=network, gossip_algorithm=RandomWalk(network))\n",
    "random_walk_simulator.setup()\n",
    "\n",
    "results, _  = random_walk_simulator.run(attackers = [])\n",
    "print(results)\n"
   ]
  },
  {
   "cell_type": "markdown",
   "metadata": {},
   "source": [
    "## Cobra Walk"
   ]
  },
  {
   "cell_type": "code",
   "execution_count": null,
   "metadata": {},
   "outputs": [],
   "source": [
    "from core.gossip_algorithm import CobraWalk\n",
    "\n",
    "cobra_walk_simulator = Simulator(network=network, gossip_algorithm=CobraWalk(network, rho = 0.8))\n",
    "cobra_walk_simulator.setup()\n",
    "\n",
    "results, _  = cobra_walk_simulator.run(attackers = [])\n",
    "print(results)\n"
   ]
  },
  {
   "cell_type": "markdown",
   "metadata": {},
   "source": [
    "## Spatial Gossip"
   ]
  },
  {
   "cell_type": "code",
   "execution_count": null,
   "metadata": {},
   "outputs": [],
   "source": [
    "from core.gossip_algorithm import SpatialGossip\n",
    "\n",
    "spatial_gossip_simulator = Simulator(network=network, gossip_algorithm=SpatialGossip(network, dimension = 2, rho = 1.1))\n",
    "spatial_gossip_simulator.setup()\n",
    "\n",
    "results, _  = spatial_gossip_simulator.run(attackers = [])\n",
    "print(results)\n"
   ]
  },
  {
   "cell_type": "markdown",
   "metadata": {},
   "source": [
    "## Cobra Walk with Spatial Gossip"
   ]
  },
  {
   "cell_type": "code",
   "execution_count": null,
   "metadata": {},
   "outputs": [],
   "source": [
    "from core.gossip_algorithm import SpatialGossipWithCobraWalk\n",
    "\n",
    "simulator = Simulator(network=network, gossip_algorithm=SpatialGossipWithCobraWalk(network, dimension = 2, rho = 1.1, cobra_walk_rho=0.8))\n",
    "simulator.setup()\n",
    "\n",
    "results, _  = simulator.run(attackers = [], msg_receival_limit = 40)\n",
    "print(results)\n"
   ]
  },
  {
   "cell_type": "markdown",
   "metadata": {},
   "source": [
    "## Hierarchical Gossip"
   ]
  },
  {
   "cell_type": "code",
   "execution_count": null,
   "metadata": {},
   "outputs": [],
   "source": [
    "from core.gossip_algorithm import HierarchialGossip\n",
    "\n",
    "simulator = Simulator(network=network, gossip_algorithm=HierarchialGossip(network, fanout_intra = 5, fanout_inter = 1, num_clusters = 6))\n",
    "simulator.setup()\n",
    "\n",
    "results, _  = simulator.run(attackers = [], msg_receival_limit = 60)\n",
    "print(results)\n"
   ]
  },
  {
   "cell_type": "markdown",
   "metadata": {},
   "source": [
    "## Hierarchical with cobra-walk (intra) and bernoulli (inter)"
   ]
  },
  {
   "cell_type": "code",
   "execution_count": null,
   "metadata": {},
   "outputs": [],
   "source": [
    "from core.gossip_algorithm import HierarchicalIntraCobraWalkInterBernoulliWithVoronoi\n",
    "from core.attacker import create_random_attackers, UniformEstimator\n",
    "\n",
    "simulator = Simulator(network=network, gossip_algorithm=HierarchicalIntraCobraWalkInterBernoulliWithVoronoi(network, inter_cluster_probability = 0.7, intra_cobra_walk_rho = 0.3, fanout_inter = 3, num_clusters = 8))\n",
    "simulator.setup()\n",
    "\n",
    "all_nodes = [node.node_id for node in simulator.network.nodes]\n",
    "lst_attackers = create_random_attackers(UniformEstimator, all_nodes, simulator.first_source.node_id, 0.1, num_attackers = 100)\n",
    "\n",
    "results, attack  = simulator.run(attackers = lst_attackers, msg_receival_limit = 60)\n",
    "print(results)\n",
    "print(attack)"
   ]
  },
  {
   "cell_type": "markdown",
   "metadata": {},
   "source": [
    "## GossipSub"
   ]
  },
  {
   "cell_type": "code",
   "execution_count": null,
   "metadata": {},
   "outputs": [],
   "source": [
    "from core.gossip_algorithm import GossipSub\n",
    "from core.attacker import create_random_attackers, UniformEstimator\n",
    "\n",
    "simulator = Simulator(network=network, gossip_algorithm=GossipSub(network, fanout = 8))\n",
    "simulator.setup()\n",
    "\n",
    "all_nodes = [node.node_id for node in simulator.network.nodes]\n",
    "lst_attackers = create_random_attackers(UniformEstimator, all_nodes, simulator.first_source.node_id, 0.1, num_attackers = 100)\n",
    "\n",
    "results, attack  = simulator.run(attackers = lst_attackers, msg_receival_limit = 1)\n",
    "print(results)\n",
    "print(attack)"
   ]
  }
 ],
 "metadata": {
  "kernelspec": {
   "display_name": "Python 3",
   "language": "python",
   "name": "python3"
  },
  "language_info": {
   "codemirror_mode": {
    "name": "ipython",
    "version": 3
   },
   "file_extension": ".py",
   "mimetype": "text/x-python",
   "name": "python",
   "nbconvert_exporter": "python",
   "pygments_lexer": "ipython3",
   "version": "3.12.0"
  }
 },
 "nbformat": 4,
 "nbformat_minor": 2
}
